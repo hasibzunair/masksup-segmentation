{
 "cells": [
  {
   "cell_type": "code",
   "execution_count": null,
   "id": "d0c28a19-01c9-49b3-8a29-a5ad09148b03",
   "metadata": {},
   "outputs": [],
   "source": [
    "%load_ext autoreload\n",
    "%autoreload 2"
   ]
  },
  {
   "cell_type": "code",
   "execution_count": null,
   "id": "fa9d84cd-bb50-4d06-8b91-5e2b18452f8e",
   "metadata": {},
   "outputs": [],
   "source": [
    "# import os,sys,inspect\n",
    "# sys.path.insert(0,\"..\")"
   ]
  },
  {
   "cell_type": "code",
   "execution_count": null,
   "id": "7cc6923a-1890-4c06-bf88-13539e0e7873",
   "metadata": {},
   "outputs": [],
   "source": [
    "import numpy as np\n",
    "import cv2\n",
    "from PIL import Image\n",
    "import torch\n",
    "from torch.utils.data import DataLoader\n",
    "from torchvision import datasets, transforms, utils\n",
    "from torch.autograd import Variable\n",
    "import matplotlib.pyplot as plt\n",
    "\n",
    "torch.manual_seed(0)\n",
    "\n",
    "if torch.cuda.is_available():\n",
    "    torch.backends.cudnn.deterministic = True\n",
    "\n",
    "# Device\n",
    "DEVICE = torch.device(\"cuda:0\" if torch.cuda.is_available() else \"cpu\")\n",
    "print(DEVICE)\n",
    "\n",
    "\n",
    "data_folder = 'datasets/ISIC2018'\n",
    "model_path = 'logs/resunet.pth'"
   ]
  },
  {
   "cell_type": "code",
   "execution_count": null,
   "id": "97867777-552b-4f03-b1b5-3dcc22989576",
   "metadata": {},
   "outputs": [],
   "source": [
    "from dataset import ISIC2018_dataloader\n",
    "\n",
    "test_dataset = ISIC2018_dataloader(\"datasets/ISIC2018\", is_train=False)\n",
    "test_dataloader = DataLoader(test_dataset, batch_size=1, shuffle=False, num_workers=8)"
   ]
  },
  {
   "cell_type": "code",
   "execution_count": null,
   "id": "144649f3-73e1-4b4a-a515-919fb1b56528",
   "metadata": {},
   "outputs": [],
   "source": [
    "from model import * \n",
    "model = build_resunet()\n",
    "checkpoint = torch.load(model_path)\n",
    "model.load_state_dict(checkpoint)\n",
    "model = model.to(DEVICE)\n",
    "model.eval()"
   ]
  },
  {
   "cell_type": "code",
   "execution_count": null,
   "id": "71c84dc0-6182-4b5d-9037-9a016900917d",
   "metadata": {},
   "outputs": [],
   "source": [
    "def visualize(idx, **images):\n",
    "    \"\"\"Plot images in one row.\"\"\" \n",
    "    n = len(images)\n",
    "    fig = plt.figure(figsize=(20, 10))\n",
    "    for i, (name, image) in enumerate(images.items()):\n",
    "        plt.subplot(1, n, i + 1)\n",
    "        plt.xticks([])\n",
    "        plt.yticks([])\n",
    "        plt.title(' '.join(name.split('_')).lower(), fontsize=20)\n",
    "        plt.imshow(image, cmap='gray')\n",
    "        plt.axis(\"off\")\n",
    "        #plt.tight_layout()\n",
    "    #plt.savefig(\"../outputs/vis/compare-segs/{}.png\".format(idx), facecolor=\"white\", bbox_inches = 'tight')\n",
    "    plt.show()"
   ]
  },
  {
   "cell_type": "code",
   "execution_count": null,
   "id": "b051883e-9ca7-4e28-bff5-58fffafcc91b",
   "metadata": {},
   "outputs": [],
   "source": [
    "len(test_dataloader)\n",
    "# y[y==1] = 255"
   ]
  },
  {
   "cell_type": "code",
   "execution_count": null,
   "id": "41c4fa22-8680-4e24-830a-02e5b0d14b66",
   "metadata": {},
   "outputs": [],
   "source": [
    "for batch_idx, data in enumerate(test_dataloader):\n",
    "    img, target = data[\"image\"].to(DEVICE), data[\"mask\"].to(DEVICE)\n",
    "    output = torch.sigmoid(model(img.float()))\n",
    "    \n",
    "    img = (img[0].permute(1,2,0).detach().cpu().numpy()+1)/2\n",
    "    img = (img*255).astype(np.uint8)\n",
    "\n",
    "    gt = target.permute(0, 2, 3, 1).squeeze().detach().cpu().numpy()\n",
    "    pred = output.permute(0, 2, 3, 1).squeeze().detach().cpu().numpy() > 0.5\n",
    "    \n",
    "    visualize(batch_idx, input_image=img, ground_truth=gt, prediction=pred)\n",
    "    \n",
    "    if batch_idx == 20:\n",
    "        break"
   ]
  },
  {
   "cell_type": "code",
   "execution_count": null,
   "id": "ea6e73d2-9c22-4d22-b19d-99ff877b0723",
   "metadata": {},
   "outputs": [],
   "source": []
  },
  {
   "cell_type": "code",
   "execution_count": null,
   "id": "c03f02d4-742d-45fb-9855-4739c8bf80e4",
   "metadata": {},
   "outputs": [],
   "source": []
  }
 ],
 "metadata": {
  "kernelspec": {
   "display_name": "Python 3",
   "language": "python",
   "name": "python3"
  },
  "language_info": {
   "codemirror_mode": {
    "name": "ipython",
    "version": 3
   },
   "file_extension": ".py",
   "mimetype": "text/x-python",
   "name": "python",
   "nbconvert_exporter": "python",
   "pygments_lexer": "ipython3",
   "version": "3.8.12"
  }
 },
 "nbformat": 4,
 "nbformat_minor": 5
}
