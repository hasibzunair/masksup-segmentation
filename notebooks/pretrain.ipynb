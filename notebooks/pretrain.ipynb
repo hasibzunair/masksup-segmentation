{
 "cells": [
  {
   "cell_type": "markdown",
   "metadata": {},
   "source": [
    "# Train COIN"
   ]
  },
  {
   "cell_type": "markdown",
   "metadata": {},
   "source": [
    "## Import libs"
   ]
  },
  {
   "cell_type": "code",
   "execution_count": null,
   "metadata": {},
   "outputs": [],
   "source": [
    "%load_ext autoreload\n",
    "%autoreload 2"
   ]
  },
  {
   "cell_type": "code",
   "execution_count": null,
   "metadata": {},
   "outputs": [],
   "source": [
    "import os,sys,inspect\n",
    "#sys.path.insert(0,\"..\")\n",
    "os.chdir('..')"
   ]
  },
  {
   "cell_type": "code",
   "execution_count": null,
   "metadata": {
    "collapsed": false,
    "jupyter": {
     "outputs_hidden": false
    }
   },
   "outputs": [],
   "source": [
    "import torch\n",
    "import torch.nn as nn\n",
    "import torch.optim as optim\n",
    "import torch.nn.functional as F\n",
    "\n",
    "from torch.utils.data import DataLoader\n",
    "from torchvision import datasets, transforms, utils\n",
    "from torch.autograd import Variable\n",
    "\n",
    "import os\n",
    "import random\n",
    "import time\n",
    "import numpy as np\n",
    "import cv2\n",
    "import matplotlib.pyplot as plt\n",
    "\n",
    "# Reproducibility\n",
    "random.seed(0)\n",
    "os.environ['PYTHONHASHSEED'] = str(0)\n",
    "np.random.seed(0)\n",
    "torch.manual_seed(0)\n",
    "torch.cuda.manual_seed(0)\n",
    "if torch.cuda.is_available():\n",
    "    torch.backends.cudnn.deterministic = True\n",
    "torch.backends.cudnn.benchmark = True\n",
    "\n",
    "# Device\n",
    "DEVICE = torch.device(\"cuda:0\" if torch.cuda.is_available() else \"cpu\")\n",
    "print(DEVICE)\n",
    "\n",
    "EXPERIMENT_NAME = \"ssl_coin\"\n",
    "\n",
    "ROOT_DIR = os.path.abspath(\".\")\n",
    "LOG_PATH = os.path.join(ROOT_DIR, \"logs\", EXPERIMENT_NAME)\n",
    "\n",
    "if not os.path.exists(LOG_PATH):\n",
    "    os.mkdir(LOG_PATH)\n",
    "    \n",
    "if not os.path.exists(os.path.join(LOG_PATH, \"outs\")):\n",
    "    os.mkdir(os.path.join(LOG_PATH,\"outs\"))\n",
    "    os.mkdir(os.path.join(LOG_PATH,\"outs\", \"preds\"))\n",
    "    os.mkdir(os.path.join(LOG_PATH,\"outs\", \"partials\"))\n",
    "    os.mkdir(os.path.join(LOG_PATH,\"outs\", \"inputs\"))"
   ]
  },
  {
   "cell_type": "code",
   "execution_count": null,
   "metadata": {},
   "outputs": [],
   "source": [
    "LOG_PATH"
   ]
  },
  {
   "cell_type": "markdown",
   "metadata": {},
   "source": [
    "## Helpers"
   ]
  },
  {
   "cell_type": "code",
   "execution_count": null,
   "metadata": {},
   "outputs": [],
   "source": [
    "def visualize(idx, **images):\n",
    "    \"\"\"Plot images in one row.\"\"\" \n",
    "    n = len(images)\n",
    "    fig = plt.figure(figsize=(20, 10))\n",
    "    for i, (name, image) in enumerate(images.items()):\n",
    "        plt.subplot(1, n, i + 1)\n",
    "        plt.xticks([])\n",
    "        plt.yticks([])\n",
    "        plt.title(' '.join(name.split('_')).lower(), fontsize=20)\n",
    "        plt.imshow(image, cmap='gray')\n",
    "        plt.axis(\"off\")\n",
    "        #plt.tight_layout()\n",
    "    #plt.savefig(\"../outputs/vis/compare-segs/{}.png\".format(idx), facecolor=\"white\", bbox_inches = 'tight')\n",
    "    plt.show()"
   ]
  },
  {
   "cell_type": "markdown",
   "metadata": {
    "tags": []
   },
   "source": [
    "## Load data"
   ]
  },
  {
   "cell_type": "code",
   "execution_count": null,
   "metadata": {
    "collapsed": false,
    "jupyter": {
     "outputs_hidden": false
    }
   },
   "outputs": [],
   "source": [
    "from dataset import ISIC2018Masked_dataloader\n",
    "\n",
    "train_dataset = ISIC2018Masked_dataloader(\"datasets/ISIC2018\")\n",
    "test_dataset = ISIC2018Masked_dataloader(\"datasets/ISIC2018\", is_train=False)\n",
    "\n",
    "train_dataloader = DataLoader(train_dataset, batch_size=8, shuffle=True, num_workers=8)\n",
    "test_dataloader = DataLoader(test_dataset, batch_size=1, shuffle=False, num_workers=8)"
   ]
  },
  {
   "cell_type": "code",
   "execution_count": null,
   "metadata": {},
   "outputs": [],
   "source": []
  },
  {
   "cell_type": "code",
   "execution_count": null,
   "metadata": {},
   "outputs": [],
   "source": [
    "dt = next(iter(train_dataloader))\n",
    "x = dt[\"image\"]\n",
    "y = dt[\"mask\"]\n",
    "z = dt[\"partial_image1\"]\n",
    "z2 = dt[\"partial_image2\"]\n",
    "x.shape, y.shape, z.shape, z2.shape"
   ]
  },
  {
   "cell_type": "code",
   "execution_count": null,
   "metadata": {},
   "outputs": [],
   "source": [
    "def to_img(ten):\n",
    "    ten =(ten[0].permute(1,2,0).detach().cpu().numpy()+1)/2\n",
    "    ten=(ten*255).astype(np.uint8)\n",
    "    return ten\n",
    "\n",
    "a = to_img(x)\n",
    "print(a.shape)\n",
    "#plt.imshow(a)\n",
    "plt.imshow(a, cmap='gray')"
   ]
  },
  {
   "cell_type": "code",
   "execution_count": null,
   "metadata": {},
   "outputs": [],
   "source": [
    "for xs, ys, zs, zs2 in zip(x,y,z,z2):\n",
    "    \n",
    "    p_in = (zs.permute(1,2,0).detach().cpu().numpy()+1)/2\n",
    "    p_in = (p_in*255).astype(np.uint8)\n",
    "    \n",
    "    p_in2 = (zs2.permute(1,2,0).detach().cpu().numpy()+1)/2\n",
    "    p_in2 = (p_in2*255).astype(np.uint8)\n",
    "    \n",
    "    # Preprocess Input\n",
    "    xs = (xs.permute(1,2,0).detach().cpu().numpy()+1)/2\n",
    "    xs = (xs*255).astype(np.uint8)\n",
    "    \n",
    "    # Preprocess Mask\n",
    "    ys =(ys.permute(1,2,0).detach().cpu().numpy()+1)/2\n",
    "    ys = (ys*255).astype(np.uint8)\n",
    "    \n",
    "    visualize(0, input_image=xs, mask=ys, partial_input=p_in, partial_input_2=p_in2)"
   ]
  },
  {
   "cell_type": "markdown",
   "metadata": {},
   "source": [
    "## Load model"
   ]
  },
  {
   "cell_type": "code",
   "execution_count": null,
   "metadata": {
    "collapsed": false,
    "jupyter": {
     "outputs_hidden": false
    }
   },
   "outputs": [],
   "source": [
    "from models import * \n",
    "\n",
    "# Define model\n",
    "model = COIN_Unet()\n",
    "\n",
    "# Send to GPU and initialize weights\n",
    "model = model.to(DEVICE)\n",
    "model.apply(weights_init)"
   ]
  },
  {
   "cell_type": "markdown",
   "metadata": {},
   "source": [
    "## Setup optim and loss"
   ]
  },
  {
   "cell_type": "code",
   "execution_count": null,
   "metadata": {
    "collapsed": false,
    "jupyter": {
     "outputs_hidden": false
    }
   },
   "outputs": [],
   "source": [
    "optimizer = optim.Adam(model.parameters(), lr=1e-4, weight_decay=1e-5)\n",
    "criterion_mae = torch.nn.L1Loss() # MAE, L1\n",
    "criterion_mse = torch.nn.MSELoss() # MSE, L2"
   ]
  },
  {
   "cell_type": "markdown",
   "metadata": {},
   "source": [
    "## Train and eval functions"
   ]
  },
  {
   "cell_type": "code",
   "execution_count": null,
   "metadata": {
    "collapsed": false,
    "jupyter": {
     "outputs_hidden": false
    }
   },
   "outputs": [],
   "source": [
    "def train(model, epoch):\n",
    "    model.train()\n",
    "    train_loss = 0\n",
    "    for batch_idx, data in enumerate(train_dataloader):\n",
    "        data, mask, partial1, partial2 = data[\"image\"].to(DEVICE), data[\"mask\"].to(DEVICE), data[\"partial_image1\"].to(DEVICE), data[\"partial_image2\"].to(DEVICE)\n",
    "        \n",
    "        # Pred\n",
    "        output1, output2 = model.forward(partial1.float(), partial2.float())\n",
    "        \n",
    "        # Post process\n",
    "        output1 = output1[:,0:3,:,:]\n",
    "        output1 = torch.tanh(output1)\n",
    "        \n",
    "        output2 = output2[:,0:3,:,:]\n",
    "        output2 = torch.tanh(output2)\n",
    "        \n",
    "        # One way loss\n",
    "        # ssl_ae\n",
    "        #loss = 0.9 * criterion_mse(output1.float(), data.float()) + 0.1 * criterion_mae(output1.float(), data.float())\n",
    "        \n",
    "        # Two way loss\n",
    "        # ssl_coin\n",
    "        loss_1 = 0.9 * criterion_mse(output1.float(), data.float()) + 0.1 * criterion_mae(output1.float(), data.float())\n",
    "        loss_2 = 0.9 * criterion_mse(output2.float(), data.float()) + 0.1 * criterion_mae(output2.float(), data.float())\n",
    "        #loss = loss_1\n",
    "        loss = 0.9 * loss_1 + 0.1 * loss_2\n",
    "        \n",
    "        train_loss += loss.item()\n",
    "        \n",
    "        # Update\n",
    "        optimizer.zero_grad()\n",
    "        loss.backward()\n",
    "        optimizer.step()\n",
    "        \n",
    "        ######################\n",
    "        if batch_idx == 0:\n",
    "            # preds\n",
    "            cv_img=(output1[0].permute(1,2,0).detach().cpu().numpy()+1)/2\n",
    "            rgb=(cv_img*255).astype(np.uint8)\n",
    "            bgr=cv2.cvtColor(rgb,cv2.COLOR_RGB2BGR)\n",
    "            cv2.imwrite('{}/outs/preds/test'.format(LOG_PATH)+str(epoch)+'.jpg',bgr)\n",
    "\n",
    "            # partial inputs\n",
    "            xx=(partial1[0].permute(1,2,0).detach().cpu().numpy()+1)/2\n",
    "            xx=(xx*255).astype(np.uint8)\n",
    "            xx=cv2.cvtColor(xx,cv2.COLOR_RGB2BGR)\n",
    "            cv2.imwrite('{}/outs/partials/test'.format(LOG_PATH)+str(epoch)+'.jpg',xx)\n",
    "\n",
    "            # inputs\n",
    "            yy=(data[0].permute(1,2,0).detach().cpu().numpy()+1)/2\n",
    "            yy=(yy*255).astype(np.uint8)\n",
    "            yy=cv2.cvtColor(yy,cv2.COLOR_RGB2BGR)\n",
    "            cv2.imwrite('{}/outs/inputs/test'.format(LOG_PATH)+str(epoch)+'.jpg',yy)\n",
    "        ######################\n",
    "        \n",
    "        # if batch_idx % 10 == 0:\n",
    "        #     print('Train Epoch: {} [{}/{} ({:.0f}%)]\\tLoss: {:.6f}'.format(\n",
    "        #         epoch, batch_idx * len(data), len(train_dataloader.dataset),\n",
    "        #         100. * batch_idx / len(train_dataloader), loss.data))\n",
    "        \n",
    "    train_loss /= len(train_dataloader) \n",
    "    train_losses.append(train_loss)\n",
    "    print('Average training loss: {:.3f}'.format(train_loss))\n",
    "\n",
    "\n",
    "            \n",
    "def test(model):\n",
    "    model.eval()\n",
    "    with torch.no_grad():\n",
    "        test_loss = 0\n",
    "        for batch_idx, data in enumerate(train_dataloader):\n",
    "            data, mask, partial = data[\"image\"].to(DEVICE), data[\"mask\"].to(DEVICE), data[\"partial_image1\"].to(DEVICE)\n",
    "            \n",
    "            # Pred\n",
    "            output, _ = model.forward(partial.float(), partial.float())\n",
    "            output = output[:,0:3,:,:]\n",
    "            output = torch.tanh(output)\n",
    "            # Compute loss\n",
    "            test_loss += criterion_mse(output.float(), data.float()).item()\n",
    "        \n",
    "        test_loss /= len(test_dataloader)\n",
    "        test_losses.append(test_loss)\n",
    "        \n",
    "        print('Average test loss: {:.3f}'.format(test_loss))\n",
    "        return test_loss"
   ]
  },
  {
   "cell_type": "markdown",
   "metadata": {
    "jupyter": {
     "outputs_hidden": false
    }
   },
   "source": [
    "## Train model"
   ]
  },
  {
   "cell_type": "code",
   "execution_count": null,
   "metadata": {
    "collapsed": false,
    "jupyter": {
     "outputs_hidden": false
    }
   },
   "outputs": [],
   "source": [
    "train_losses = []\n",
    "test_losses = []\n",
    "score = 0\n",
    "best_score = 100\n",
    "\n",
    "start_time = time.time()\n",
    "\n",
    "for epoch in range(1, 500):\n",
    "    print(\"Epoch: {}\".format(epoch))\n",
    "    # Train\n",
    "    train_score = train(model, epoch)\n",
    "    # Test\n",
    "    test_score = test(model)\n",
    "    \n",
    "    # Save best model\n",
    "    if test_score < best_score:\n",
    "        print(\"Saving model ------------------------------ at loss = {:.3f}.\".format(test_score))\n",
    "        torch.save(model.state_dict(), '{}/{}.pth'.format(LOG_PATH, EXPERIMENT_NAME))\n",
    "        best_score = test_score\n",
    "\n",
    "# Save losses\n",
    "train_loss_history = np.array(train_losses)\n",
    "np.savetxt(\"{}/{}_train_loss.txt\".format(LOG_PATH, EXPERIMENT_NAME), train_loss_history, delimiter=\",\")\n",
    "loss_history = np.array(test_losses)\n",
    "np.savetxt(\"{}/{}_test_loss.txt\".format(LOG_PATH, EXPERIMENT_NAME), loss_history, delimiter=\",\")\n",
    "\n",
    "end_time = time.time()\n",
    "print(\"--- Time taken to train : %s hours ---\" % ((end_time - start_time)//3600))\n",
    "print(\"--- Time taken to train : %s mins ---\" % ((end_time - start_time)//60))   "
   ]
  },
  {
   "cell_type": "markdown",
   "metadata": {},
   "source": [
    "## Plot loss curves"
   ]
  },
  {
   "cell_type": "code",
   "execution_count": null,
   "metadata": {},
   "outputs": [],
   "source": [
    "# MAE\n",
    "#0.021\n",
    "\n",
    "# COIN\n",
    "# "
   ]
  },
  {
   "cell_type": "code",
   "execution_count": null,
   "metadata": {},
   "outputs": [],
   "source": [
    "# Plot training & validation loss values\n",
    "# b, g, r, y, o, -g, -m,\n",
    "plt.figure(figsize=(15, 5))\n",
    "plt.subplot(121)\n",
    "plt.plot(train_losses,linewidth=2)\n",
    "plt.plot(test_losses,linewidth=2)\n",
    "#plt.title('{} loss'.format(\"Exp name\"))\n",
    "plt.ylabel('Loss')\n",
    "plt.xlabel('Epoch')\n",
    "plt.legend(['train loss', 'test loss'], loc='upper left')\n",
    "plt.grid(True)\n",
    "plt.savefig('{}/{}_graph.png'.format(LOG_PATH, EXPERIMENT_NAME), dpi=300)\n",
    "plt.show()"
   ]
  },
  {
   "cell_type": "code",
   "execution_count": null,
   "metadata": {},
   "outputs": [],
   "source": []
  },
  {
   "cell_type": "code",
   "execution_count": null,
   "metadata": {},
   "outputs": [],
   "source": []
  },
  {
   "cell_type": "code",
   "execution_count": null,
   "metadata": {},
   "outputs": [],
   "source": []
  },
  {
   "cell_type": "code",
   "execution_count": null,
   "metadata": {},
   "outputs": [],
   "source": []
  },
  {
   "cell_type": "code",
   "execution_count": null,
   "metadata": {},
   "outputs": [],
   "source": [
    "# Plot training & validation loss values\n",
    "# b, g, r, y, o, -g, -m,\n",
    "plt.figure(figsize=(15, 5))\n",
    "plt.subplot(121)\n",
    "plt.plot(train_losses,linewidth=2)\n",
    "plt.plot(test_losses,linewidth=2)\n",
    "#plt.title('{} loss'.format(\"Exp name\"))\n",
    "plt.ylabel('Loss')\n",
    "plt.xlabel('Epoch')\n",
    "plt.legend(['train loss', 'test loss'], loc='upper left')\n",
    "plt.grid(True)\n",
    "plt.savefig('{}/{}_graph.png'.format(LOG_PATH, EXPERIMENT_NAME), dpi=300)\n",
    "plt.show()"
   ]
  },
  {
   "cell_type": "code",
   "execution_count": null,
   "metadata": {},
   "outputs": [],
   "source": []
  }
 ],
 "metadata": {
  "kernelspec": {
   "display_name": "Python 3",
   "language": "python",
   "name": "python3"
  },
  "language_info": {
   "codemirror_mode": {
    "name": "ipython",
    "version": 3
   },
   "file_extension": ".py",
   "mimetype": "text/x-python",
   "name": "python",
   "nbconvert_exporter": "python",
   "pygments_lexer": "ipython3",
   "version": "3.8.12"
  }
 },
 "nbformat": 4,
 "nbformat_minor": 4
}
