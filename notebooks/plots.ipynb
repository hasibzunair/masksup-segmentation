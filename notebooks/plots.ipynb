{
 "cells": [
  {
   "cell_type": "markdown",
   "id": "b16e3135-c76b-4171-b09c-12a97b269f4c",
   "metadata": {},
   "source": [
    "https://github.com/hasibzunair/decathlon-ssl/tree/master/notebooks/graphs"
   ]
  },
  {
   "cell_type": "code",
   "execution_count": null,
   "id": "31f24bdf-80fb-436f-b0bd-1c0c28bc6a3a",
   "metadata": {},
   "outputs": [],
   "source": []
  },
  {
   "cell_type": "code",
   "execution_count": 1,
   "id": "fac37924-4e97-41c5-91d5-51fed0bb2cd0",
   "metadata": {},
   "outputs": [],
   "source": [
    "%load_ext autoreload\n",
    "%autoreload 2"
   ]
  },
  {
   "cell_type": "code",
   "execution_count": 2,
   "id": "797172ed-b1d1-4136-a70d-1f3ff84e41f7",
   "metadata": {},
   "outputs": [],
   "source": [
    "import pandas as pd\n",
    "import numpy as np\n",
    "import sys\n",
    "import matplotlib.pyplot as plt\n",
    "import seaborn as sns\n",
    "import os \n",
    "sns.set()\n",
    "\n",
    "%matplotlib inline\n",
    "import warnings\n",
    "warnings.filterwarnings('ignore')\n",
    "\n",
    "# https://abdalimran.github.io/2019-06-01/Drawing-multiple-ROC-Curves-in-a-single-plot"
   ]
  },
  {
   "cell_type": "code",
   "execution_count": null,
   "id": "4d6f3684-6cce-4afd-9ce8-6176c0f05174",
   "metadata": {},
   "outputs": [],
   "source": []
  },
  {
   "cell_type": "code",
   "execution_count": 59,
   "id": "7bf7ac90-8e47-4769-9e5d-d0b822ae6d86",
   "metadata": {},
   "outputs": [
    {
     "data": {
      "image/png": "[encoded data removed]",
      "text/plain": [
       "<Figure size 720x288 with 1 Axes>"
      ]
     },
     "metadata": {
      "needs_background": "light"
     },
     "output_type": "display_data"
    }
   ],
   "source": [
    "# Glas dataset results\n",
    "labels = ['LeViT-UNet-128', 'LeViT-UNet-192', 'LeViT-UNet-384']\n",
    "auc = [84.699, 83.454, 81.292] # base\n",
    "acc_nst = [85.66, 0, 82.451] # cb\n",
    "acc = [86.144, 0, 81.467] # cb ts\n",
    "\n",
    "\n",
    "x = np.arange(len(labels))  # the label locations\n",
    "dummy = np.arange(10)\n",
    "\n",
    "width = 0.25 #0.4  # the width of the bars\n",
    "\n",
    "\n",
    "\n",
    "fig, ax = plt.subplots()\n",
    "\n",
    "rects1 = ax.bar(x - width/2, auc[::-1], width, label='Base')\n",
    "rects2 = ax.bar(x + width/2, acc_nst[::-1], width, label='w/ CB')\n",
    "rects211 = ax.bar(x + width/2 * 3.08, acc[::-1], width, label='w/ CB + TS')\n",
    "\n",
    "ax.set_ylabel('Dice Score (%)', fontsize=18)\n",
    "#ax.set_title('Results')\n",
    "ax.set_xticks(x)\n",
    "ax.set_xticklabels(labels, rotation=0, fontsize=18)\n",
    "\n",
    "#for i in range(18):\n",
    "#    ax.get_xticklabels()[i].set_color(\"white\")\n",
    "\n",
    "ax.set_ylim([80, 90])\n",
    "ax.legend(loc=\"best\")\n",
    "ax.grid(True)\n",
    "\n",
    "def autolabel(rects):\n",
    "    \"\"\"Attach a text label above each bar in *rects*, displaying its height.\"\"\"\n",
    "    for rect in rects:\n",
    "        height = rect.get_height()\n",
    "        ax.annotate('{}%'.format(height),\n",
    "                    xy=(rect.get_x() + rect.get_width() / 2, height),\n",
    "                    xytext=(0, 3),  # 3 points vertical offset\n",
    "                    textcoords=\"offset points\",\n",
    "                    ha='center', va='bottom', rotation=0, fontsize=15)\n",
    "        #ax.set_ylim(ymin=1)\n",
    "        \n",
    "\n",
    "def autolabel_(rects):\n",
    "    \"\"\"Attach a text label above each bar in *rects*, displaying its height.\"\"\"\n",
    "    for rect in rects:\n",
    "        height = rect.get_height()\n",
    "        ax.annotate('{}%'.format(height),\n",
    "                    xy=(rect.get_x() + rect.get_width() / 2, height),\n",
    "                    xytext=(0, 3),  # 3 points vertical offset\n",
    "                    textcoords=\"offset points\",\n",
    "                    ha='center', va='bottom', rotation=0, fontsize=15)\n",
    "        #ax.set_ylim(ymin=1)\n",
    "\n",
    "\n",
    "#autolabel(rects1) # %\n",
    "#autolabel(rects2)\n",
    "#autolabel_(rects211) # %\n",
    "\n",
    "fig.tight_layout()\n",
    "fig.set_size_inches(10, 4, forward=True)\n",
    "#plt.legend()\n",
    "#plt.savefig(\"../../logs/adversarial_robustness.pdf\", bbox_inches='tight', pad_inches=0, dpi=300)\n",
    "plt.show()"
   ]
  },
  {
   "cell_type": "code",
   "execution_count": null,
   "id": "b0f6c1f9-2f5f-41c4-b7a9-f3a899f9ffe6",
   "metadata": {},
   "outputs": [],
   "source": []
  }
 ],
 "metadata": {
  "kernelspec": {
   "display_name": "Python 3 (ipykernel)",
   "language": "python",
   "name": "python3"
  },
  "language_info": {
   "codemirror_mode": {
    "name": "ipython",
    "version": 3
   },
   "file_extension": ".py",
   "mimetype": "text/x-python",
   "name": "python",
   "nbconvert_exporter": "python",
   "pygments_lexer": "ipython3",
   "version": "3.8.11"
  }
 },
 "nbformat": 4,
 "nbformat_minor": 5
}
