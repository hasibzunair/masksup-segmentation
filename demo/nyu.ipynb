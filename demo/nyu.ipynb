{
 "cells": [
  {
   "cell_type": "code",
   "execution_count": null,
   "metadata": {},
   "outputs": [],
   "source": [
    "import os\n",
    "import numpy as np\n",
    "import cv2\n",
    "import codecs\n",
    "import torch\n",
    "import torchvision.transforms as transforms\n",
    "import gradio as gr\n",
    "\n",
    "from PIL import Image\n",
    "\n",
    "from unetplusplus import NestedUNet\n",
    "\n",
    "torch.manual_seed(0)\n",
    "\n",
    "if torch.cuda.is_available():\n",
    "    torch.backends.cudnn.deterministic = True\n",
    "\n",
    "# Device\n",
    "DEVICE = \"cpu\"\n",
    "print(DEVICE)\n",
    "\n",
    "# Load color map\n",
    "cmap = np.load('cmap.npy')\n",
    "\n",
    "# Make directories\n",
    "os.system(\"mkdir ./models\")\n",
    "\n",
    "# Get model weights\n",
    "if not os.path.exists(\"./models/masksupnyu39.31d.pth\"):\n",
    "    os.system(\"wget -O ./models/masksupnyu39.31d.pth https://github.com/hasibzunair/masksup-segmentation/releases/download/v0.1/masksupnyu39.31iou.pth\")\n",
    "\n",
    "# Load model\n",
    "model = NestedUNet(num_classes=40)\n",
    "checkpoint = torch.load(\"./models/masksupnyu39.31d.pth\")\n",
    "model.load_state_dict(checkpoint)\n",
    "model = model.to(DEVICE)\n",
    "model.eval()\n",
    "\n",
    "\n",
    "# Main inference function\n",
    "def inference(img_path):\n",
    "    image = Image.open(img_path).convert(\"RGB\")\n",
    "    transforms_image = transforms.Compose(\n",
    "        [\n",
    "            transforms.Resize((224, 224)),\n",
    "            transforms.CenterCrop((224, 224)),\n",
    "            transforms.ToTensor(),\n",
    "            transforms.Normalize((0.5, 0.5, 0.5), (0.5, 0.5, 0.5)),\n",
    "        ]\n",
    "    )\n",
    "\n",
    "    image = transforms_image(image)\n",
    "    image = image[None, :]\n",
    "    # Predict\n",
    "    with torch.no_grad():\n",
    "        output = torch.sigmoid(model(image.to(DEVICE).float()))\n",
    "        output = torch.softmax(output, dim=1).argmax(dim=1)[0].float().cpu().numpy().astype(np.uint8)\n",
    "        pred = cmap[output]\n",
    "    return pred\n",
    "\n",
    "# App\n",
    "title = \"Masked Supervised Learning for Semantic Segmentation\"\n",
    "description = codecs.open(\"description.html\", \"r\", \"utf-8\").read()\n",
    "article = \"<p style='text-align: center'><a href='https://arxiv.org/abs/2210.00923' target='_blank'>Masked Supervised Learning for Semantic Segmentation</a> | <a href='https://github.com/hasibzunair/masksup-segmentation' target='_blank'>Github</a></p>\"\n",
    "\n",
    "gr.Interface(\n",
    "    inference,\n",
    "    gr.inputs.Image(type='file', label=\"Input Image\"),\n",
    "    gr.outputs.Image(type=\"file\", label=\"Predicted Output\"),\n",
    "    examples=[\"./sample_images/a.png\", \"./sample_images/b.png\", \n",
    "    \"./sample_images/c.png\", \"./sample_images/d.png\"],\n",
    "    title=title,\n",
    "    description=description,\n",
    "    article=article,\n",
    "    allow_flagging=False,\n",
    "    analytics_enabled=False,\n",
    "    ).launch(debug=True, enable_queue=True)"
   ]
  },
  {
   "cell_type": "code",
   "execution_count": null,
   "metadata": {},
   "outputs": [],
   "source": []
  },
  {
   "cell_type": "code",
   "execution_count": null,
   "metadata": {},
   "outputs": [],
   "source": []
  },
  {
   "cell_type": "code",
   "execution_count": null,
   "metadata": {},
   "outputs": [],
   "source": []
  },
  {
   "cell_type": "code",
   "execution_count": null,
   "metadata": {},
   "outputs": [],
   "source": []
  },
  {
   "cell_type": "code",
   "execution_count": null,
   "metadata": {},
   "outputs": [],
   "source": []
  },
  {
   "cell_type": "code",
   "execution_count": null,
   "metadata": {},
   "outputs": [],
   "source": []
  },
  {
   "cell_type": "code",
   "execution_count": null,
   "metadata": {},
   "outputs": [],
   "source": []
  }
 ],
 "metadata": {
  "kernelspec": {
   "display_name": "Python 3.8.12 ('fifa')",
   "language": "python",
   "name": "python3"
  },
  "language_info": {
   "codemirror_mode": {
    "name": "ipython",
    "version": 3
   },
   "file_extension": ".py",
   "mimetype": "text/x-python",
   "name": "python",
   "nbconvert_exporter": "python",
   "pygments_lexer": "ipython3",
   "version": "3.8.12"
  },
  "orig_nbformat": 4,
  "vscode": {
   "interpreter": {
    "hash": "5a4cff4f724f20f3784f32e905011239b516be3fadafd59414871df18d0dad63"
   }
  }
 },
 "nbformat": 4,
 "nbformat_minor": 2
}
